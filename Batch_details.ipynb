{
 "cells": [
  {
   "cell_type": "code",
   "execution_count": 15,
   "id": "474464ef",
   "metadata": {},
   "outputs": [
    {
     "name": "stdout",
     "output_type": "stream",
     "text": [
      "Enter Batch Number:2023\n",
      "*******************************\n",
      "\n",
      "        Batch Details          \n",
      "\n",
      "*******************************\n",
      "\n",
      "Batch Number   2023\n",
      "Date           Wed Sep  1 12:43:21 2021\n",
      "*******************************\n",
      "\n",
      "Pineapple  Cake   -   500 gm   -   70\n",
      "Banana Cake   -   500 gm    -   50\n",
      "Vanilla Cake   -   1 kg   -   20\n"
     ]
    }
   ],
   "source": [
    "import json\n",
    "\n",
    "file = open(\"Data/Products.json\",\"r\")\n",
    "data = file.read()\n",
    "data = json.loads(data)\n",
    "file.close()\n",
    "\n",
    "\n",
    "file = open(\"Data/Batches.json\",\"r\")\n",
    "batch= file.read()\n",
    "batch = json.loads(batch)\n",
    "file.close()\n",
    "\n",
    "batch_no= input(\"Enter Batch Number:\")\n",
    "\n",
    "print(\"*******************************\\n\")\n",
    "print(\"        Batch Details          \\n\")\n",
    "print(\"*******************************\\n\")\n",
    "print(\"Batch Number  \", batch_no)\n",
    "print(\"Date          \",batch[batch_no][\"time\"])\n",
    "print(\"*******************************\\n\")\n",
    "for b in batch[batch_no][\"stock\"]:\n",
    "    print(data[b][\"Name\"],\"  -  \",data[b][\"Weight\"],\"  -  \",batch[batch_no][\"stock\"][b])\n",
    "    \n"
   ]
  },
  {
   "cell_type": "code",
   "execution_count": null,
   "id": "4f4b1d95",
   "metadata": {},
   "outputs": [],
   "source": []
  }
 ],
 "metadata": {
  "kernelspec": {
   "display_name": "Python 3",
   "language": "python",
   "name": "python3"
  },
  "language_info": {
   "codemirror_mode": {
    "name": "ipython",
    "version": 3
   },
   "file_extension": ".py",
   "mimetype": "text/x-python",
   "name": "python",
   "nbconvert_exporter": "python",
   "pygments_lexer": "ipython3",
   "version": "3.8.8"
  }
 },
 "nbformat": 4,
 "nbformat_minor": 5
}
