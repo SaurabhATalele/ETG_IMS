{
 "cells": [
  {
   "cell_type": "code",
   "execution_count": 9,
   "id": "3fec19bd",
   "metadata": {},
   "outputs": [
    {
     "name": "stdout",
     "output_type": "stream",
     "text": [
      "Enter The Bill Number: 1\n",
      "\n",
      "\n",
      "\n",
      "\n",
      "\n",
      "\n",
      "Your Bill\n",
      "*************************************\n",
      "Bill no    1\n",
      "Date       2021-09-01\n",
      "Time       Wed Sep  1 19:15:44 2021\n",
      "*************************************\n",
      "\n",
      "items\n",
      "\n",
      "Pineapple  Cake   -   2   -  Rs. 400\n",
      "Banana Cake   -   1   -  Rs. 210\n",
      "*************************************\n",
      "\n",
      "Total Bill : Rs. 610\n"
     ]
    }
   ],
   "source": [
    "#Enter bill number to view bill\n",
    "\n",
    "import json\n",
    "\n",
    "Total = 0\n",
    "file = open(\"Data/Products.json\",\"r\")\n",
    "data = file.read()\n",
    "data = json.loads(data)\n",
    "file.close()\n",
    "\n",
    "\n",
    "file = open(\"Data/Sales.json\",\"r\")\n",
    "sales = file.read()\n",
    "sales = json.loads(sales)\n",
    "file.close()\n",
    "\n",
    "bill_no = input(\"Enter The Bill Number: \")\n",
    "\n",
    "items = sales[bill_no][\"Items\"]\n",
    "\n",
    "\n",
    "print(\"\\n\\n\\n\\n\\n\\nYour Bill\")\n",
    "print(\"*************************************\")\n",
    "print(\"Bill no   \",bill_no)\n",
    "print(\"Date      \",sales[bill_no][\"Date\"])\n",
    "print(\"Time      \",sales[bill_no][\"Time\"])\n",
    "print(\"*************************************\\n\")\n",
    "print(\"items\\n\")\n",
    "for item in items:\n",
    "    print(data[str(item)][\"Name\"],\"  -  \" ,items[item],\"  -  Rs.\" ,data[str(item)][\"Price\"]*items[item])\n",
    "    Total += data[str(item)][\"Price\"]*items[item]\n",
    "print(\"*************************************\\n\")\n",
    "print(\"Total Bill : Rs.\",Total)\n",
    "\n"
   ]
  },
  {
   "cell_type": "code",
   "execution_count": null,
   "id": "b50a7ee6",
   "metadata": {},
   "outputs": [],
   "source": []
  }
 ],
 "metadata": {
  "kernelspec": {
   "display_name": "Python 3",
   "language": "python",
   "name": "python3"
  },
  "language_info": {
   "codemirror_mode": {
    "name": "ipython",
    "version": 3
   },
   "file_extension": ".py",
   "mimetype": "text/x-python",
   "name": "python",
   "nbconvert_exporter": "python",
   "pygments_lexer": "ipython3",
   "version": "3.8.8"
  }
 },
 "nbformat": 4,
 "nbformat_minor": 5
}
