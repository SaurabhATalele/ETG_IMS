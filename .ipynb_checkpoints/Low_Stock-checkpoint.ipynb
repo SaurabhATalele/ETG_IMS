{
 "cells": [
  {
   "cell_type": "code",
   "execution_count": 7,
   "id": "d06d2baa",
   "metadata": {},
   "outputs": [
    {
     "name": "stdout",
     "output_type": "stream",
     "text": [
      "Product Names\n",
      "********************\n",
      "Pineapple  Cake\n",
      "Banana Cake\n",
      "5 star\n"
     ]
    }
   ],
   "source": [
    "#Make a list products whose stock is lower than 50 items\n",
    "\n",
    "import json\n",
    "\n",
    "low_stock = {}\n",
    "\n",
    "file = open(\"Data/Products.json\",\"r\")\n",
    "data = file.read()\n",
    "data = json.loads(data)\n",
    "\n",
    "for item in data:\n",
    "    if data[item][\"Quantity\"]<50:\n",
    "        low_stock[data[item][\"Name\"]] = data[item][\"Quantity\"]\n",
    "\n",
    "print(\"Product Names\\n********************\")\n",
    "for stock in low_stock:\n",
    "    print(stock)  "
   ]
  },
  {
   "cell_type": "code",
   "execution_count": null,
   "id": "09208f18",
   "metadata": {},
   "outputs": [],
   "source": []
  }
 ],
 "metadata": {
  "kernelspec": {
   "display_name": "Python 3",
   "language": "python",
   "name": "python3"
  },
  "language_info": {
   "codemirror_mode": {
    "name": "ipython",
    "version": 3
   },
   "file_extension": ".py",
   "mimetype": "text/x-python",
   "name": "python",
   "nbconvert_exporter": "python",
   "pygments_lexer": "ipython3",
   "version": "3.8.8"
  }
 },
 "nbformat": 4,
 "nbformat_minor": 5
}
