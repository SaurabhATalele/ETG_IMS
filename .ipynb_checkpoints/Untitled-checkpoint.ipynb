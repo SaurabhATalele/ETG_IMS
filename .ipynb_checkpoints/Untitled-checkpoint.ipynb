{
 "cells": [
  {
   "cell_type": "raw",
   "id": "c845de17",
   "metadata": {},
   "source": [
    "\n"
   ]
  },
  {
   "cell_type": "code",
   "execution_count": 5,
   "id": "60537ab2",
   "metadata": {},
   "outputs": [
    {
     "name": "stdout",
     "output_type": "stream",
     "text": [
      "enter item number : 1\n",
      "enter quantity of item : 2\n",
      "***************************************WEL-COME******************************************\n",
      "name of item is : a\n",
      "MRP of item is : 10 Rs.\n",
      "Discount per item is : 10%\n",
      "total price of order is : 18 Rs.\n",
      "************************************VISIT-AGAIN******************************************\n",
      "98\n",
      "98\n"
     ]
    }
   ],
   "source": [
    "import json\n",
    "\n",
    "\n",
    "file = open(\"items.json\",\"r\")\n",
    "items = file.read()\n",
    "items = json.loads(items)\n",
    "file.close()\n",
    "\n",
    "number=int(input(\"enter item number : \"))\n",
    "quant=int(input(\"enter quantity of item : \"))\n",
    "\n",
    "print(\"***************************************WEL-COME******************************************\")\n",
    "#order=int(input(\"enter how many items do you want to enter :\"))\n",
    "\n",
    "for i in items:\n",
    "    if(i<=number):\n",
    "       \n",
    "\n",
    "        print(\"name of item is :\",items[number][\"Name\"])\n",
    "        \n",
    "        print(\"MRP of item is :\",items[number][\"MRP\"],\"Rs.\")\n",
    "\n",
    "\n",
    "       \n",
    "\n",
    "        \n",
    "        print(\"Discount per item is :\",items[number][\"Discount\"])\n",
    "        discount=(((items[number][\"MRP\"])*10)/100)*quant\n",
    "        total_price=(((items[number][\"MRP\"])*quant)-(discount))\n",
    "        print(\"total price of order is :\",int(total_price),\"Rs.\")\n",
    "        \n",
    "        break;\n",
    "\n",
    "print(\"************************************VISIT-AGAIN******************************************\")\n",
    "\n",
    "\n",
    "items[str(number)][\"Quantity\"] = (items[str(number)][\"Quantity\"])-quant\n",
    "\n",
    "js = json.dumps(items)\n",
    "\n",
    "fd=open(\"items.json\",'w')\n",
    "fd.write(js)\n",
    "fd.close()\n",
    "\n",
    "fd=open(\"items.json\",'r')\n",
    "txt=fd.read()\n",
    "fd.close()\n",
    "\n",
    "items=json.loads(txt)\n",
    "\n",
    "#print(txt)\n",
    "#print(items)\n",
    "\n",
    "print((items[str(number)][\"Quantity\"])-quant)\n",
    "items[str(number)][\"Quantity\"]-=quant\n",
    "print(items[str(number)][\"Quantity\"])"
   ]
  },
  {
   "cell_type": "code",
   "execution_count": null,
   "id": "bd70b2a8",
   "metadata": {},
   "outputs": [],
   "source": []
  }
 ],
 "metadata": {
  "kernelspec": {
   "display_name": "Python 3",
   "language": "python",
   "name": "python3"
  },
  "language_info": {
   "codemirror_mode": {
    "name": "ipython",
    "version": 3
   },
   "file_extension": ".py",
   "mimetype": "text/x-python",
   "name": "python",
   "nbconvert_exporter": "python",
   "pygments_lexer": "ipython3",
   "version": "3.8.8"
  }
 },
 "nbformat": 4,
 "nbformat_minor": 5
}
