{
 "cells": [
  {
   "cell_type": "code",
   "execution_count": 42,
   "id": "6f7c5b72",
   "metadata": {},
   "outputs": [
    {
     "name": "stdout",
     "output_type": "stream",
     "text": [
      "Enter product ID: 1021\n",
      "Do you want to add more items?(y to continue) .\n",
      "\n",
      "\n",
      "\n",
      "\n",
      "\n",
      "\n",
      "Your Bill\n",
      "*************************************\n",
      "Bill no    5\n",
      "Date       2021-09-01\n",
      "Time       Wed Sep  1 19:27:29 2021\n",
      "*************************************\n",
      "\n",
      "items\n",
      "\n"
     ]
    },
    {
     "ename": "TypeError",
     "evalue": "string indices must be integers",
     "output_type": "error",
     "traceback": [
      "\u001b[1;31m---------------------------------------------------------------------------\u001b[0m",
      "\u001b[1;31mTypeError\u001b[0m                                 Traceback (most recent call last)",
      "\u001b[1;32m<ipython-input-42-0629dfb8a20d>\u001b[0m in \u001b[0;36m<module>\u001b[1;34m\u001b[0m\n\u001b[0;32m     90\u001b[0m \u001b[0mprint\u001b[0m\u001b[1;33m(\u001b[0m\u001b[1;34m\"items\\n\"\u001b[0m\u001b[1;33m)\u001b[0m\u001b[1;33m\u001b[0m\u001b[1;33m\u001b[0m\u001b[0m\n\u001b[0;32m     91\u001b[0m \u001b[1;32mfor\u001b[0m \u001b[0mitem\u001b[0m \u001b[1;32min\u001b[0m \u001b[0mitems\u001b[0m\u001b[1;33m:\u001b[0m\u001b[1;33m\u001b[0m\u001b[1;33m\u001b[0m\u001b[0m\n\u001b[1;32m---> 92\u001b[1;33m     \u001b[0mprint\u001b[0m\u001b[1;33m(\u001b[0m\u001b[0mdata\u001b[0m\u001b[1;33m[\u001b[0m\u001b[0mstr\u001b[0m\u001b[1;33m(\u001b[0m\u001b[0mitem\u001b[0m\u001b[1;33m)\u001b[0m\u001b[1;33m]\u001b[0m\u001b[1;33m[\u001b[0m\u001b[1;34m\"Name\"\u001b[0m\u001b[1;33m]\u001b[0m\u001b[1;33m,\u001b[0m\u001b[1;34m\"  -  \"\u001b[0m \u001b[1;33m,\u001b[0m\u001b[0mitems\u001b[0m\u001b[1;33m[\u001b[0m\u001b[0mitem\u001b[0m\u001b[1;33m]\u001b[0m\u001b[1;33m,\u001b[0m\u001b[1;34m\"  -  Rs.\"\u001b[0m \u001b[1;33m,\u001b[0m\u001b[0mdata\u001b[0m\u001b[1;33m[\u001b[0m\u001b[0mstr\u001b[0m\u001b[1;33m(\u001b[0m\u001b[0mitem\u001b[0m\u001b[1;33m)\u001b[0m\u001b[1;33m]\u001b[0m\u001b[1;33m[\u001b[0m\u001b[1;34m\"Price\"\u001b[0m\u001b[1;33m]\u001b[0m\u001b[1;33m*\u001b[0m\u001b[0mitems\u001b[0m\u001b[1;33m[\u001b[0m\u001b[0mitem\u001b[0m\u001b[1;33m]\u001b[0m\u001b[1;33m)\u001b[0m\u001b[1;33m\u001b[0m\u001b[1;33m\u001b[0m\u001b[0m\n\u001b[0m\u001b[0;32m     93\u001b[0m \u001b[0mprint\u001b[0m\u001b[1;33m(\u001b[0m\u001b[1;34m\"*************************************\\n\"\u001b[0m\u001b[1;33m)\u001b[0m\u001b[1;33m\u001b[0m\u001b[1;33m\u001b[0m\u001b[0m\n\u001b[0;32m     94\u001b[0m \u001b[0mprint\u001b[0m\u001b[1;33m(\u001b[0m\u001b[1;34m\"Total Bill : Rs.\"\u001b[0m\u001b[1;33m,\u001b[0m\u001b[0mTotal\u001b[0m\u001b[1;33m)\u001b[0m\u001b[1;33m\u001b[0m\u001b[1;33m\u001b[0m\u001b[0m\n",
      "\u001b[1;31mTypeError\u001b[0m: string indices must be integers"
     ]
    }
   ],
   "source": [
    "import json\n",
    "import datetime\n",
    "\n",
    "bill_no = 0\n",
    "items = {}\n",
    "Total = 0\n",
    "\n",
    "#fetching products data\n",
    "\n",
    "file = open(\"Data/Products.json\", \"r\")\n",
    "data = file.read()\n",
    "\n",
    "data = json.loads(data)\n",
    "\n",
    "file.close()\n",
    "\n",
    "#fetching sales\n",
    "\n",
    "file = open(\"Data/Sales.json\",\"r\")\n",
    "sales = file.read()\n",
    "if not sales == \"\" :\n",
    "    sales = json.loads(sales)\n",
    "else:\n",
    "        sales = {}\n",
    "    \n",
    "file.close()\n",
    "\n",
    "a=1\n",
    "#Taking user input for Purchase\n",
    "\n",
    "while True:\n",
    "    product_id = int(input(\"Enter product ID: \"))\n",
    "    \n",
    "    if product_id not in items:\n",
    "        items[product_id] = 1\n",
    "    else:\n",
    "        items[product_id] += 1\n",
    "        \n",
    "    data[str(product_id)][\"Quantity\"]  -= 1\n",
    "    inp = input(\"Do you want to add more items?(y to continue) \")\n",
    "    \n",
    "    if inp == \"y\":\n",
    "        continue\n",
    "    else:\n",
    "        break\n",
    "    \n",
    "    \n",
    "if not sales == {}:\n",
    "    keys = list(sales.keys())\n",
    "    bill_no = int(keys[-1]) + 1\n",
    "else:\n",
    "    bill_no = 1\n",
    "    \n",
    "for item in items:\n",
    "    Total += data[str(item)][\"Price\"] * items[item]\n",
    "        \n",
    " # Update sales\n",
    "file = open(\"Data/Sales.json\",\"w\")\n",
    "\n",
    "x = datetime.datetime.now()\n",
    "time = str(x.strftime(\"%c\"))\n",
    "sales[bill_no]={\n",
    "    \"Date\":str(datetime.date.today()),\n",
    "    \"Time\":time,\n",
    "    \"Items\":items,\n",
    "    \"Total\":Total\n",
    "}\n",
    "\n",
    "sales = json.dumps(sales)\n",
    "\n",
    "file.write(sales)\n",
    "\n",
    "file.close()\n",
    "\n",
    "\n",
    "\n",
    "print(\"\\n\\n\\n\\n\\n\\nYour Bill\")\n",
    "print(\"*************************************\")\n",
    "print(\"Bill no   \",bill_no)\n",
    "print(\"Date      \",datetime.date.today())\n",
    "print(\"Time      \",time)\n",
    "print(\"*************************************\\n\")\n",
    "print(\"items\\n\")\n",
    "for item in items:\n",
    "    print(data[str(item)][\"Name\"],\"  -  \" ,items[item],\"  -  Rs.\" ,data[str(item)][\"Price\"]*items[item])\n",
    "print(\"*************************************\\n\")\n",
    "print(\"Total Bill : Rs.\",Total)\n",
    "\n",
    "\n",
    "#Update data products\n",
    "file = open(\"Data/Products.json\",\"w\")\n",
    "data = json.dumps(data)\n",
    "file.write(data)\n",
    "file.close()\n"
   ]
  },
  {
   "cell_type": "code",
   "execution_count": 40,
   "id": "9fbdf630",
   "metadata": {},
   "outputs": [
    {
     "data": {
      "text/plain": [
       "int"
      ]
     },
     "execution_count": 40,
     "metadata": {},
     "output_type": "execute_result"
    }
   ],
   "source": [
    "type(data[\"1023\"][\"Quantity\"])"
   ]
  },
  {
   "cell_type": "code",
   "execution_count": null,
   "id": "0780e342",
   "metadata": {},
   "outputs": [],
   "source": []
  }
 ],
 "metadata": {
  "kernelspec": {
   "display_name": "Python 3",
   "language": "python",
   "name": "python3"
  },
  "language_info": {
   "codemirror_mode": {
    "name": "ipython",
    "version": 3
   },
   "file_extension": ".py",
   "mimetype": "text/x-python",
   "name": "python",
   "nbconvert_exporter": "python",
   "pygments_lexer": "ipython3",
   "version": "3.8.8"
  }
 },
 "nbformat": 4,
 "nbformat_minor": 5
}
