{
 "cells": [
  {
   "cell_type": "code",
   "execution_count": 42,
   "id": "cf839dc4",
   "metadata": {},
   "outputs": [
    {
     "name": "stdout",
     "output_type": "stream",
     "text": [
      "Enter  product ID: 1024\n",
      "Enter Product name: 5 star\n",
      "Enter the weight of product: 200 gm\n",
      "Enter the product price: 20\n",
      "Do you want to add more items?(y to continue) \n",
      "\n",
      "\n",
      "\n",
      "*******************************\n",
      "The Data has been saved!!!\n",
      "Thank You!!!\n"
     ]
    }
   ],
   "source": [
    "#This is a inventory of a chocolate and cake shop\n",
    "#This program is used to add new items in the invetory\n",
    "\n",
    "\n",
    "import json\n",
    "import  datetime\n",
    "\n",
    "temp = 1\n",
    "new_items ={}\n",
    "final_data = \"\"\n",
    "\n",
    "while True:\n",
    "    ID = int(input(\"Enter  product ID: \"))\n",
    "    Name = input(\"Enter Product name: \")\n",
    "    Weight = input(\"Enter the weight of product: \")\n",
    "    Price = int(input(\"Enter the product price: \"))\n",
    "    \n",
    "    new_items[ID] = {\"Name\"      :  Name,\n",
    "                     \"Weight\"    :  Weight,\n",
    "                     \"Price\"     :  Price,\n",
    "                     \"Quantity\"  :  0\n",
    "                    }\n",
    "    \n",
    "    cnt = input(\"Do you want to add more items?(y to continue) \")\n",
    "    if cnt == \"y\":\n",
    "        continue\n",
    "    else:\n",
    "        break\n",
    " \n",
    "with open(\"Data/Products.json\",\"r\") as products:\n",
    "    \n",
    "    data = products.read()\n",
    "    if data != \"\" :\n",
    "        data = json.loads(data)\n",
    "    else:\n",
    "        data = {}\n",
    "    \n",
    "    data.update(new_items)\n",
    "    \n",
    "    final_data = json.dumps(data)\n",
    "    \n",
    "    products.close()\n",
    "\n",
    "with open(\"Data/Products.json\",\"w\") as products:\n",
    "\n",
    "    \n",
    "    products.write(final_data)\n",
    "\n",
    "print(\"\\n\\n\\n*******************************\")\n",
    "print(\"The Data has been saved!!!\")\n",
    "print(\"Thank You!!!\")\n",
    "    "
   ]
  }
 ],
 "metadata": {
  "kernelspec": {
   "display_name": "Python 3",
   "language": "python",
   "name": "python3"
  },
  "language_info": {
   "codemirror_mode": {
    "name": "ipython",
    "version": 3
   },
   "file_extension": ".py",
   "mimetype": "text/x-python",
   "name": "python",
   "nbconvert_exporter": "python",
   "pygments_lexer": "ipython3",
   "version": "3.8.8"
  }
 },
 "nbformat": 4,
 "nbformat_minor": 5
}
