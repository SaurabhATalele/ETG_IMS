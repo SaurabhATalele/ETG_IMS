{
 "cells": [
  {
   "cell_type": "code",
   "execution_count": 2,
   "id": "eff8d3b1",
   "metadata": {},
   "outputs": [
    {
     "name": "stdout",
     "output_type": "stream",
     "text": [
      "Enter start date(yyyy-mm-dd): 2021-09-01\n",
      "Enter end date(yyyy-mm-dd): 2021-09-02\n",
      "\n",
      "\n",
      "\n",
      "Total Sales between  2021-09-01  to  2021-09-02 \n",
      "\n",
      "*********************************\n",
      "\n",
      "\n",
      "Pineapple  Cake   -   7   -  Rs. 1400\n",
      "Banana Cake   -   1   -  Rs. 210\n",
      "Vanilla Cake   -   1   -  Rs. 500\n",
      "*********************************\n",
      "\n",
      "\n",
      "Total Sales Amount : Rs. 2110\n"
     ]
    }
   ],
   "source": [
    "#Enter the start date and end date to see the sales of the given range\n",
    "\n",
    "import json\n",
    "products = {}\n",
    "Sales = {}\n",
    "items = {}\n",
    "Total = 0\n",
    "\n",
    "with open(\"Data/Products.json\",'r') as p:\n",
    "    Products = p.read()\n",
    "    Products = json.loads(Products)\n",
    "    p.close()\n",
    "\n",
    "with open(\"Data/Sales.json\",\"r\") as s:\n",
    "    sales = s.read()\n",
    "    Sales = json.loads(sales)\n",
    "    s.close()\n",
    "\n",
    "start_date = input(\"Enter start date(yyyy-mm-dd): \")\n",
    "end_date = input(\"Enter end date(yyyy-mm-dd): \")\n",
    "\n",
    "\n",
    "for s in Sales:\n",
    "    if Sales[s][\"Date\"]  >= start_date and Sales[s][\"Date\"]  <= end_date:\n",
    "        for item in Sales[s][\"Items\"]:\n",
    "            if item not in items:\n",
    "                items[item] = Sales[s][\"Items\"][item]\n",
    "            else:\n",
    "                items[item] += Sales[s][\"Items\"][item]\n",
    "\n",
    "                \n",
    "if items == {}:\n",
    "    print(\"No Sales for the day!!!\")\n",
    "else:\n",
    "\n",
    "    print(\"\\n\\n\\nTotal Sales between \",start_date,\" to \",end_date,\"\\n\")\n",
    "    print(\"*********************************\\n\\n\")\n",
    "    for item in items:\n",
    "        print(Products[item][\"Name\"] ,\"  -  \",items[item], \"  -  Rs.\",Products[item][\"Price\"]*items[item])\n",
    "        Total += Products[item][\"Price\"]*items[item]\n",
    "\n",
    "    print(\"*********************************\\n\\n\")\n",
    "    print(\"Total Sales Amount : Rs.\",Total)"
   ]
  },
  {
   "cell_type": "code",
   "execution_count": null,
   "id": "d41334fa",
   "metadata": {},
   "outputs": [],
   "source": []
  }
 ],
 "metadata": {
  "kernelspec": {
   "display_name": "Python 3",
   "language": "python",
   "name": "python3"
  },
  "language_info": {
   "codemirror_mode": {
    "name": "ipython",
    "version": 3
   },
   "file_extension": ".py",
   "mimetype": "text/x-python",
   "name": "python",
   "nbconvert_exporter": "python",
   "pygments_lexer": "ipython3",
   "version": "3.8.8"
  }
 },
 "nbformat": 4,
 "nbformat_minor": 5
}
