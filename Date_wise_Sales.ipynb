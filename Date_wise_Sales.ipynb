{
 "cells": [
  {
   "cell_type": "code",
   "execution_count": 14,
   "id": "3076d72f",
   "metadata": {},
   "outputs": [
    {
     "name": "stdout",
     "output_type": "stream",
     "text": [
      "Enter the date(yyyy-mm-dd): 2021-09-02\n",
      "No Sales for the day!!!\n"
     ]
    }
   ],
   "source": [
    "#Enter the date for the sales of the day\n",
    "\n",
    "import json\n",
    "products = {}\n",
    "Sales = {}\n",
    "items = {}\n",
    "Total = 0\n",
    "\n",
    "with open(\"Data/Products.json\",'r') as p:\n",
    "    Products = p.read()\n",
    "    Products = json.loads(Products)\n",
    "    p.close()\n",
    "\n",
    "with open(\"Data/Sales.json\",\"r\") as s:\n",
    "    sales = s.read()\n",
    "    Sales = json.loads(sales)\n",
    "    s.close()\n",
    "\n",
    "date = input(\"Enter the date(yyyy-mm-dd): \")\n",
    "\n",
    "for s in Sales:\n",
    "    if Sales[s][\"Date\"] == date:\n",
    "        for item in Sales[s][\"Items\"]:\n",
    "            if item not in items:\n",
    "                items[item] = Sales[s][\"Items\"][item]\n",
    "            else:\n",
    "                items[item] += Sales[s][\"Items\"][item]\n",
    "                \n",
    "                \n",
    "if items == {}:\n",
    "    print(\"No Sales for the day!!!\")\n",
    "else:\n",
    "    print(\"\\n\\n\\nTotal Sales of the Day \\n\")\n",
    "    print(\"*********************************\\n\\n\")\n",
    "\n",
    "\n",
    "\n",
    "    for item in items:\n",
    "        print(Products[item][\"Name\"] ,\"  -  \",items[item], \"  -  Rs.\",Products[item][\"Price\"]*items[item])\n",
    "        Total += Products[item][\"Price\"]*items[item]\n",
    "\n",
    "    print(\"*********************************\\n\\n\")\n",
    "    print(\"Total Sales Amount : Rs.\",Total)"
   ]
  }
 ],
 "metadata": {
  "kernelspec": {
   "display_name": "Python 3",
   "language": "python",
   "name": "python3"
  },
  "language_info": {
   "codemirror_mode": {
    "name": "ipython",
    "version": 3
   },
   "file_extension": ".py",
   "mimetype": "text/x-python",
   "name": "python",
   "nbconvert_exporter": "python",
   "pygments_lexer": "ipython3",
   "version": "3.8.8"
  }
 },
 "nbformat": 4,
 "nbformat_minor": 5
}
